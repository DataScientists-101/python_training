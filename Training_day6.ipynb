{
 "cells": [
  {
   "cell_type": "code",
   "execution_count": 1,
   "id": "2223e185",
   "metadata": {},
   "outputs": [],
   "source": [
    "my_string = 'Python is my favorite programming language!'"
   ]
  },
  {
   "cell_type": "code",
   "execution_count": 2,
   "id": "aefd3fc6",
   "metadata": {},
   "outputs": [],
   "source": [
    "import random"
   ]
  },
  {
   "cell_type": "code",
   "execution_count": 3,
   "id": "4cb98392",
   "metadata": {},
   "outputs": [
    {
     "data": {
      "text/plain": [
       "0.14948725081055814"
      ]
     },
     "execution_count": 3,
     "metadata": {},
     "output_type": "execute_result"
    }
   ],
   "source": [
    "random.random()"
   ]
  },
  {
   "cell_type": "code",
   "execution_count": 4,
   "id": "8a50d8ce",
   "metadata": {},
   "outputs": [
    {
     "data": {
      "text/plain": [
       "3"
      ]
     },
     "execution_count": 4,
     "metadata": {},
     "output_type": "execute_result"
    }
   ],
   "source": [
    "random.randint(1, 18)"
   ]
  },
  {
   "cell_type": "code",
   "execution_count": null,
   "id": "2d6fb22d",
   "metadata": {},
   "outputs": [],
   "source": []
  },
  {
   "cell_type": "code",
   "execution_count": 5,
   "id": "ee28ed0f",
   "metadata": {},
   "outputs": [
    {
     "data": {
      "text/plain": [
       "[30, 20, 10]"
      ]
     },
     "execution_count": 5,
     "metadata": {},
     "output_type": "execute_result"
    }
   ],
   "source": [
    "[30, 20, 10]"
   ]
  },
  {
   "cell_type": "code",
   "execution_count": 6,
   "id": "15692f8b",
   "metadata": {},
   "outputs": [
    {
     "ename": "SyntaxError",
     "evalue": "invalid syntax (<ipython-input-6-641dd05afa61>, line 5)",
     "output_type": "error",
     "traceback": [
      "\u001b[1;36m  File \u001b[1;32m\"<ipython-input-6-641dd05afa61>\"\u001b[1;36m, line \u001b[1;32m5\u001b[0m\n\u001b[1;33m    result = rand * every30ms, 20ms\u001b[0m\n\u001b[1;37m                                 ^\u001b[0m\n\u001b[1;31mSyntaxError\u001b[0m\u001b[1;31m:\u001b[0m invalid syntax\n"
     ]
    }
   ],
   "source": [
    "rand = 2\n",
    "cont = 3\n",
    "result = 0\n",
    "def random(rand):\n",
    "    result = rand * every30ms, 20ms \n",
    "    rand = result\n",
    "    return result, rand \n"
   ]
  },
  {
   "cell_type": "code",
   "execution_count": null,
   "id": "32c005a7",
   "metadata": {},
   "outputs": [],
   "source": [
    "result, rand = random(rand)\n",
    "print(result)"
   ]
  },
  {
   "cell_type": "code",
   "execution_count": null,
   "id": "e1e91498",
   "metadata": {},
   "outputs": [],
   "source": [
    "t = (1,2,3,3, 'hi')"
   ]
  },
  {
   "cell_type": "code",
   "execution_count": null,
   "id": "0eb479b4",
   "metadata": {},
   "outputs": [],
   "source": [
    "print(list(t))"
   ]
  },
  {
   "cell_type": "code",
   "execution_count": null,
   "id": "362edcbd",
   "metadata": {},
   "outputs": [],
   "source": [
    "name = float(input())"
   ]
  },
  {
   "cell_type": "markdown",
   "id": "66cfc1bc",
   "metadata": {},
   "source": [
    "# OOP Concepts\n",
    "\n",
    "1) Class.\n",
    "2) Object.\n",
    "3) Method.\n",
    "4) Inheritance.\n",
    "5) Encapsulation.\n",
    "6) Polymorphism.\n",
    "7) Data Abstraction."
   ]
  },
  {
   "cell_type": "code",
   "execution_count": null,
   "id": "aa68f2aa",
   "metadata": {},
   "outputs": [],
   "source": [
    "# A Framework for Autonomous Driving"
   ]
  },
  {
   "cell_type": "code",
   "execution_count": null,
   "id": "c6d23e4a",
   "metadata": {},
   "outputs": [],
   "source": [
    "def calculate_sum(var1, var2):\n",
    "    return var1 + var2\n",
    "    "
   ]
  },
  {
   "cell_type": "code",
   "execution_count": 7,
   "id": "1e545ebe",
   "metadata": {},
   "outputs": [],
   "source": [
    "# Class"
   ]
  },
  {
   "cell_type": "code",
   "execution_count": 93,
   "id": "6b370452",
   "metadata": {},
   "outputs": [],
   "source": [
    "class Car:\n",
    "    wheels = 4\n",
    "    head_lights = 2\n",
    "    back_lights = 2\n",
    "    steering = 1\n",
    "    standard_height = 95\n",
    "    standard_width = 70\n",
    "    \n",
    "    def __init__(self, height=None, width=None):\n",
    "        print(\"I'm Generic Car\")\n",
    "        if height == None and width == None:\n",
    "            self.height = Car.standard_height\n",
    "            self.width = Car.standard_width\n",
    "            \n",
    "        else:\n",
    "            self.height = height\n",
    "            self.width = width\n",
    "        \n",
    "    \n",
    "    def move_forward(self, speed=None):\n",
    "        print(\"moving forward at {} KM/S\".format(speed))\n",
    "        self.steer_left(30)\n",
    "    \n",
    "    def move_backward(self, speed=None):\n",
    "        print(\"moving backward at {} KM/S\".format(speed))\n",
    "    \n",
    "    def steer_left(self, angle=None):\n",
    "        print(\"steering left at and angle of {} degrees\".format(angle))\n",
    "    \n",
    "    def steer_right(self, angle=None):\n",
    "        print(\"steering right at and angle of {} degrees\".format(angle))\n",
    "    \n",
    "    "
   ]
  },
  {
   "cell_type": "code",
   "execution_count": 9,
   "id": "a5858b26",
   "metadata": {},
   "outputs": [],
   "source": [
    "car1 = Car(height=100, width=75)"
   ]
  },
  {
   "cell_type": "code",
   "execution_count": 10,
   "id": "43fc8e24",
   "metadata": {},
   "outputs": [],
   "source": [
    "car2 = Car()"
   ]
  },
  {
   "cell_type": "code",
   "execution_count": 11,
   "id": "1539cf9c",
   "metadata": {},
   "outputs": [
    {
     "name": "stdout",
     "output_type": "stream",
     "text": [
      "moving forward at 10 KM/S\n",
      "steering left at and angle of 30 degrees\n"
     ]
    }
   ],
   "source": [
    "car1.move_forward(10)"
   ]
  },
  {
   "cell_type": "code",
   "execution_count": null,
   "id": "d993fc9e",
   "metadata": {},
   "outputs": [],
   "source": [
    "## Inheritence\n",
    "1) Single level Inheritence\n",
    "2) Miltilevel level Inheritence\n",
    "3) Multiple Inheritence"
   ]
  },
  {
   "cell_type": "markdown",
   "id": "495f2ea0",
   "metadata": {},
   "source": [
    "# Honda\n",
    "Single Level Inheritence\n",
    "Creating: \n",
    "    1) Honda Civic\n",
    "    "
   ]
  },
  {
   "cell_type": "code",
   "execution_count": 94,
   "id": "411fe062",
   "metadata": {},
   "outputs": [],
   "source": [
    "class HondaCivic(Car):\n",
    "    \n",
    "    width = 50\n",
    "    height = 65\n",
    "    spoilers = 1\n",
    "    turbo = 100\n",
    "    style = \"Honda Civic Variant 1\"\n",
    "    \n",
    "    def __init__(self):\n",
    "        print(\"I'm HondaCivic\")\n",
    "        self.model = 'Model 1'\n",
    "        pass\n",
    "    \n",
    "    def audioSystems(self, on_off=False, play_pause_stop=0):\n",
    "        if on_off == True:\n",
    "            print('Radio Turned ON.')\n",
    "            #status = detect_sleepiness()\n",
    "            radio_is_turned_on = True\n",
    "        else:\n",
    "            print(\"Radio Turned OFF\")\n",
    "            radio_is_turned_on = False\n",
    "            \n",
    "    \n",
    "    def pushBack(self, seat_no, angle):\n",
    "        pass\n",
    "    \n",
    "    def resetPushBack(self, seat_no):\n",
    "        pass\n",
    "    \n",
    "    \n"
   ]
  },
  {
   "cell_type": "code",
   "execution_count": 24,
   "id": "64f609f3",
   "metadata": {},
   "outputs": [],
   "source": [
    "civic = HondaCivic()"
   ]
  },
  {
   "cell_type": "code",
   "execution_count": 25,
   "id": "a34f6139",
   "metadata": {},
   "outputs": [
    {
     "name": "stdout",
     "output_type": "stream",
     "text": [
      "moving forward at 10 KM/S\n",
      "steering left at and angle of 30 degrees\n"
     ]
    }
   ],
   "source": [
    "civic.move_forward(10)"
   ]
  },
  {
   "cell_type": "code",
   "execution_count": 26,
   "id": "d95ab8fc",
   "metadata": {},
   "outputs": [
    {
     "name": "stdout",
     "output_type": "stream",
     "text": [
      "Radio Turned ON.\n"
     ]
    }
   ],
   "source": [
    "civic.audioSystems(on_off=True, play_pause_stop=0)"
   ]
  },
  {
   "cell_type": "code",
   "execution_count": null,
   "id": "c389eb62",
   "metadata": {},
   "outputs": [],
   "source": []
  },
  {
   "cell_type": "code",
   "execution_count": 101,
   "id": "e62a32dd",
   "metadata": {},
   "outputs": [],
   "source": [
    "class HondaCity(HondaCivic):\n",
    "    \n",
    "    #set attributes\n",
    "    width = 60\n",
    "    height = 75\n",
    "    spoilers = 1\n",
    "    turbo = 150\n",
    "    style = \"Honda City Variant 1\"\n",
    "    \n",
    "    def __init__(self):\n",
    "        super().__init__()\n",
    "        print(super().pushBack(seat_no=2, angle=60))\n",
    "        print(super().style)\n",
    "        print(\"I'm HondaCity\")\n",
    "        \n",
    "        self.no_of_gears = 6\n",
    "        pass\n",
    "    \n",
    "    def audioSystemV2(self):\n",
    "        print(\"I'm Honda\")\n",
    "        pass\n",
    "    \n",
    "    #implement Methods\n",
    "    def sunRoof(self, _open=False):\n",
    "        pass\n",
    "    \n",
    "    def Horn_on_off(self, on_off=False):\n",
    "        pass\n",
    "    \n",
    "    def change_gear(self):\n",
    "        pass"
   ]
  },
  {
   "cell_type": "code",
   "execution_count": 89,
   "id": "88effe7a",
   "metadata": {},
   "outputs": [
    {
     "name": "stdout",
     "output_type": "stream",
     "text": [
      "I'm HondaCivic\n",
      "None\n",
      "Honda Civic Variant 1\n",
      "I'm HondaCity\n"
     ]
    }
   ],
   "source": [
    "city = HondaCity()"
   ]
  },
  {
   "cell_type": "code",
   "execution_count": 30,
   "id": "6c20c238",
   "metadata": {},
   "outputs": [
    {
     "data": {
      "text/plain": [
       "60"
      ]
     },
     "execution_count": 30,
     "metadata": {},
     "output_type": "execute_result"
    }
   ],
   "source": [
    "city.width"
   ]
  },
  {
   "cell_type": "code",
   "execution_count": 32,
   "id": "1d4dc937",
   "metadata": {},
   "outputs": [
    {
     "name": "stdout",
     "output_type": "stream",
     "text": [
      "moving forward at 20 KM/S\n",
      "steering left at and angle of 30 degrees\n"
     ]
    }
   ],
   "source": [
    "city.move_forward(20)"
   ]
  },
  {
   "cell_type": "code",
   "execution_count": 31,
   "id": "7c8c8711",
   "metadata": {},
   "outputs": [
    {
     "name": "stdout",
     "output_type": "stream",
     "text": [
      "Radio Turned ON.\n"
     ]
    }
   ],
   "source": [
    "city.audioSystems(on_off=True)"
   ]
  },
  {
   "cell_type": "markdown",
   "id": "3c5f8029",
   "metadata": {},
   "source": [
    "Multiple Inheritence"
   ]
  },
  {
   "cell_type": "code",
   "execution_count": 118,
   "id": "ea5af687",
   "metadata": {},
   "outputs": [],
   "source": [
    "class Tesla(Car):\n",
    "    \n",
    "    style=\"Sedan V1\"\n",
    "    \n",
    "    def __init__(self):\n",
    "        pass\n",
    "    \n",
    "    def audioSystemV2(self):\n",
    "        print(\"I'm Tesla\")\n",
    "        pass"
   ]
  },
  {
   "cell_type": "code",
   "execution_count": 130,
   "id": "3e920671",
   "metadata": {},
   "outputs": [],
   "source": [
    "class HondaAmaze(HondaCity, Tesla):\n",
    "    \n",
    "    def __init__(self):\n",
    "        pass\n",
    "    \n",
    "    def tesla_audio(self):\n",
    "        Tesla.audioSystemV2()\n",
    "    \n",
    "    ## implement methods"
   ]
  },
  {
   "cell_type": "code",
   "execution_count": 131,
   "id": "e477c2bf",
   "metadata": {},
   "outputs": [],
   "source": [
    "amaze = HondaAmaze()"
   ]
  },
  {
   "cell_type": "code",
   "execution_count": 132,
   "id": "ab5bbe4f",
   "metadata": {},
   "outputs": [
    {
     "name": "stdout",
     "output_type": "stream",
     "text": [
      "moving forward at 30 KM/S\n",
      "steering left at and angle of 30 degrees\n"
     ]
    }
   ],
   "source": [
    "amaze.move_forward(30)"
   ]
  },
  {
   "cell_type": "code",
   "execution_count": 133,
   "id": "0ebcdb07",
   "metadata": {},
   "outputs": [
    {
     "name": "stdout",
     "output_type": "stream",
     "text": [
      "I'm Honda\n"
     ]
    }
   ],
   "source": [
    "amaze.audioSystemV2()"
   ]
  },
  {
   "cell_type": "code",
   "execution_count": null,
   "id": "096b10cc",
   "metadata": {},
   "outputs": [],
   "source": []
  },
  {
   "cell_type": "code",
   "execution_count": null,
   "id": "0088abda",
   "metadata": {},
   "outputs": [],
   "source": []
  },
  {
   "cell_type": "code",
   "execution_count": null,
   "id": "f2ec9c13",
   "metadata": {},
   "outputs": [],
   "source": []
  },
  {
   "cell_type": "code",
   "execution_count": null,
   "id": "ab4e487e",
   "metadata": {},
   "outputs": [],
   "source": []
  },
  {
   "cell_type": "code",
   "execution_count": 56,
   "id": "01703932",
   "metadata": {},
   "outputs": [],
   "source": [
    "\n",
    "    "
   ]
  },
  {
   "cell_type": "code",
   "execution_count": null,
   "id": "4aa3cf0e",
   "metadata": {},
   "outputs": [],
   "source": []
  },
  {
   "cell_type": "code",
   "execution_count": null,
   "id": "4464c350",
   "metadata": {},
   "outputs": [],
   "source": []
  },
  {
   "cell_type": "code",
   "execution_count": null,
   "id": "572a0c9e",
   "metadata": {},
   "outputs": [],
   "source": []
  },
  {
   "cell_type": "code",
   "execution_count": null,
   "id": "0c7c6fbc",
   "metadata": {},
   "outputs": [],
   "source": []
  }
 ],
 "metadata": {
  "kernelspec": {
   "display_name": "Python 3",
   "language": "python",
   "name": "python3"
  },
  "language_info": {
   "codemirror_mode": {
    "name": "ipython",
    "version": 3
   },
   "file_extension": ".py",
   "mimetype": "text/x-python",
   "name": "python",
   "nbconvert_exporter": "python",
   "pygments_lexer": "ipython3",
   "version": "3.9.2"
  }
 },
 "nbformat": 4,
 "nbformat_minor": 5
}
